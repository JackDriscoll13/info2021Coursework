{
 "cells": [
  {
   "cell_type": "code",
   "execution_count": null,
   "metadata": {},
   "outputs": [],
   "source": [
    "# Python Operators: +, -, *, /, floor division: //, modulo, %\n"
   ]
  },
  {
   "cell_type": "code",
   "execution_count": 2,
   "metadata": {},
   "outputs": [
    {
     "name": "stdout",
     "output_type": "stream",
     "text": [
      "The new population is: \n",
      "331510200\n"
     ]
    }
   ],
   "source": [
    "# Consesus Problem \n",
    "# Birth every 2 secs -- Death every 7 -- new immigrant every 24\n",
    "\n",
    "start_pop = 318933342 ##int(input(\"What is the starting population?\"))\n",
    "seconds_in_year = 31536000\n",
    "births_per_year = seconds_in_year//2\n",
    "deaths_per_year = seconds_in_year//7\n",
    "immigrants_per_year = seconds_in_year//24\n",
    "pop_change = births_per_year + immigrants_per_year - deaths_per_year\n",
    "new_pop = (start_pop + pop_change)//1\n",
    "print(\"The new population is: \")\n",
    "print(new_pop)\n",
    "\n",
    "    \n"
   ]
  },
  {
   "cell_type": "code",
   "execution_count": 1,
   "metadata": {},
   "outputs": [],
   "source": [
    "#Lab Week 4\n",
    "def display_price(price, is_wealthy):\n",
    "    if (is_wealthy == True):\n",
    "        n_price = price * 1.15\n",
    "        n_price = str(round(n_price,2))\n",
    "        print(\"The price is $\"+n_price)\n",
    "    else:\n",
    "        p_price = str(round(price,2))\n",
    "        print(\"The price is $\"+p_price)"
   ]
  },
  {
   "cell_type": "code",
   "execution_count": 3,
   "metadata": {},
   "outputs": [
    {
     "name": "stdout",
     "output_type": "stream",
     "text": [
      "The price is $90\n"
     ]
    }
   ],
   "source": [
    "display_price(90,False)"
   ]
  },
  {
   "cell_type": "code",
   "execution_count": 10,
   "metadata": {},
   "outputs": [
    {
     "name": "stdout",
     "output_type": "stream",
     "text": [
      "0\n",
      "5\n",
      "10\n",
      "15\n",
      "20\n"
     ]
    }
   ],
   "source": [
    "# FOR LOOPS \n",
    "\n",
    "#for i in range(0,6):\n",
    "    #print(i)\n",
    "for i in range(0,21,5):\n",
    "    print(i)\n",
    "def new_summation(startnum, endnum):\n",
    "    concat = 0   \n",
    "    for i in range(startnum,endnum+1):\n",
    "        #print(concat)\n",
    "        concat += i\n",
    "        #print(\"new concat is \"+str(concat))\n",
    "    print(\"Summation is \"+str(concat)+\"!!!!\")\n",
    "#new_summation(6,100)"
   ]
  },
  {
   "cell_type": "code",
   "execution_count": 19,
   "metadata": {},
   "outputs": [
    {
     "name": "stdout",
     "output_type": "stream",
     "text": [
      "['backpack', 'phone', 'wallet', 'keys', 'tablet', 'laptop']\n",
      "backpack has an even number of letters!\n",
      "phone has an odd number of letters!\n",
      "wallet has an even number of letters!\n",
      "keys has an even number of letters!\n",
      "tablet has an even number of letters!\n",
      "laptop has an even number of letters!\n"
     ]
    }
   ],
   "source": [
    "#LISTS \n",
    "\n",
    "#adding and removing things from list:\n",
    "myList = [\"phone\", \"wallet\", \"keys\", ]\n",
    "myList.append(\"tablet\")\n",
    "myList.insert(0,\"backpack\")\n",
    "#print(myList)\n",
    "\n",
    "myList.insert(100, \"laptop\")\n",
    "#print(myList)\n",
    "\n",
    "myList.insert(0, \"milk\")\n",
    "myList.append(\"milk\")\n",
    "#print(myList)\n",
    "myList.remove(\"milk\")\n",
    "#print(myList)\n",
    "# .remove removes the first instance of a specific item from the list \n",
    "\n",
    "\n",
    "# .pop removes one thing from an index and returns it\n",
    "\n",
    "popit = myList.pop(4)   #removes 4rth item from list ( \"tablet\" ) and saves it in 'popit'\n",
    "#print(popit)\n",
    "#print(myList)\n",
    "\n",
    "myList.insert(4, popit)\n",
    "#print(myList)\n",
    "\n",
    "\n",
    "del myList[6]  # deletes item from specific list \n",
    "#print(myList)\n",
    "\n",
    "# Fuctions doing stuff with lists:\n",
    "\n",
    "hell = [\"hi\", \"hola\", \"comoesta\", \"hello \"]\n",
    "\n",
    "def letterCounter(wordlist):\n",
    "    for i in wordlist:\n",
    "        print(len(i))\n",
    "        \n",
    "#letterCounter(hell)\n",
    "\n",
    "# USING INDEX NOTATION: \n",
    "def letterCounter1(wordlist):\n",
    "    for i in range (0, len(wordlist)):\n",
    "        print(len(wordlist[i]))\n",
    "#print(myList)\n",
    "#letterCounter1(myList)\n",
    "\n",
    "\n",
    "def printWords(wordlist):\n",
    "    for i in wordlist:\n",
    "        if (len(i)%2 == 0):\n",
    "            print(i + \" has an even number of letters!\")\n",
    "        else:\n",
    "            print(i + \" has an odd number of letters!\")\n",
    "\n",
    "print(myList)\n",
    "printWords(myList)"
   ]
  },
  {
   "cell_type": "code",
   "execution_count": 2,
   "metadata": {},
   "outputs": [
    {
     "name": "stdout",
     "output_type": "stream",
     "text": [
      "There are 1 vowels in pig\n",
      "There are 1 vowels in cat\n",
      "There are 2 vowels in horse\n",
      "There are 1 vowels in dog\n",
      "There are 2 vowels in sheep\n",
      "There are 7 vowels in horseeeeee\n",
      "Total number of vowels in list: 14\n",
      "Final vowel string: iaoeoeeoeeeeee\n"
     ]
    }
   ],
   "source": [
    "mystring = \"key key key keykeykeykey key key   key keychain\"\n",
    "#print(mystring.count(\"key\"))\n",
    "\n",
    "\n",
    "def returnSubstringCount(myList,substring):\n",
    "    count = 0\n",
    "    for word in myList:\n",
    "        count+=word.count(substring)\n",
    "    print(\"Subtring count is \"+str(count)+\".\")\n",
    "list1 =[\"foo\",\"poo\",\"doo\",\"foo\",\"yoo\"]\n",
    "\n",
    "#returnSubstringCount(list1,\"foo\")\n",
    "list2 = [\"donut\",\"cofee\",\"tea\",\"munckin\",\"sex\"]\n",
    "\n",
    "def printLetters(myList):\n",
    "    for i in myList:\n",
    "        print(i)\n",
    "        for x in i:\n",
    "            print(x)\n",
    "#printLetters(list2)\n",
    "def countVowel(myList):\n",
    "    count = 0\n",
    "    for word in myList:\n",
    "        print(word)\n",
    "        for let in word:\n",
    "            if (let == \"a\")or(let == \"e\")or(let == \"i\")or(let == \"o\")or(let == \"u\"):\n",
    "                count +=1\n",
    "                print(\"letter is: \"+str(let) +\" VOWEL! count + 1\")\n",
    "            else:\n",
    "                print(\"letter is: \"+str(let) +\" not vowel. count + 0\")\n",
    "    print(\"Total vowel count: \"+str(count))\n",
    "#countVowel(list1)\n",
    "\n",
    "def buildVowelString(wordList):\n",
    "    vowelString = \"\"\n",
    "    totalNumVowels = 0\n",
    "    for word in wordList:\n",
    "        counter = 0\n",
    "        for let in word:\n",
    "            if (let in \"aeiouAEIOU\"):\n",
    "                counter += 1\n",
    "                vowelString+=let\n",
    "                totalNumVowels +=1\n",
    "    \n",
    "        print(\"There are \"+str(counter)+\" vowels in \"+word)\n",
    "    print(\"Total number of vowels in list: \"+str(totalNumVowels))\n",
    "    print(\"Final vowel string: \"+vowelString)\n",
    "\n",
    "    \n",
    "aList = [\"pig\",\"cat\",\"horse\",\"dog\",\"sheep\",\"horseeeeee\"]\n",
    "buildVowelString(aList)"
   ]
  },
  {
   "cell_type": "code",
   "execution_count": 2,
   "metadata": {},
   "outputs": [],
   "source": [
    "iceCreamTweets = [\"Ice Cream hats confirmed for Animal Crossing: New Horizons. Photo credits: @doubutsunews\",\n",
    "                 \"Milk is just boneless ice cream\",\n",
    "                 \"I want ice cream\",\n",
    "                 \"As soon as Rabbit face woke up this morning she made eyecontact w/ Dog face & the first thing Dog face said was WY! i bought the icecream black sugar icecream! saying it with indifference. Yst they went to the store but they didn't have the icecream.\",\n",
    "                 \"#MAR10  Happy Mario Day! Ice Cream Social art inspired by @shojo_nosferatu\",\n",
    "                 \"Started off as a Rapidash + Vanillish hybrid but ended up just being an excuse to draw ice cream horses\",\n",
    "                 \"A #family #icecream moment in history @WaltDisneyWorld on #NationalIceCreamDay. Serious business!\",\n",
    "                 \"Ice cream? #Seattle's #CedarbrookLodge has unbelievable complimentary treats SeattleLodge http://dld.bz/fFWSb\",\n",
    "                 \"Waffles and ice cream.\",\n",
    "                 \"Even the #CapeTown Icecream vendors have an INCREDIBLE sharing spirit and allowed me to take their bike for a spin. #MagicalCycleWeekend\",\n",
    "                 \"Hot Cheetos-Flavored Ice Cream Emerges as a Top Texas Trend\",\n",
    "                 \"I scream, you scream, we all scream for ice cream!! #thedirectchallenge\",\n",
    "                 \"#icecream when it's -7 out - Yup! Check out @Villageicecream in @EastVillageYYC. Try the coconut milk #chocolate flavour - it's seasonal - get there fast! Our #babyboomer travel itinerary - http://destinationzoomer.com/calgary\",\n",
    "                 \"Yup! I just prepared some addicting stuff like Salted Caramel icecream, roasted almonds and dried apricotsDrooling faceDrooling faceDrooling face for tonight’s Portrait de la jeune fille en feu (2nd best movie at Cannes’ next Parasite).... #WorkFromHome\",\n",
    "                 \"Check out our website for more info! https://buff.ly/2U8B3WT. #frostyfrootes #icecream\",\n",
    "                 \"Picnics, family get-togethers, community events; ice cream is perfect for them all! Electro Freeze can provide the best of the best. #icecream #food #yum #family #community #foodie #chocolate\",\n",
    "                 \"A perfect end to the work day! #icecream #OpeningDay @NathansDairyBar\",\n",
    "                 \"If it's not a shaved ice kind of day, Maui Shave Ice also serves ice cream as an alternative.#IceCream  #Desserts http://bit.ly/2TuNQQk\",\n",
    "                 \"Mango-nificent & Fairtrade Chocolate, what a combo! It takes two to Mango! Choose from milk, dark, white or ruby chocolate. Frosty Frootes - Coming soon. #frostyfrootes #icecream\",\n",
    "                 \"hey @Twitter world double roasted almonds feat. a touch of cocoa & spices named after the classic track from ween #vegan #icecream #ween\",\n",
    "                  \"Today's forecast: a Cold Rolled drizzle. #thaiicecream #rolledicecream #icecream #dessert #foodie #OCRegister\",\n",
    "                  \"Everything is being cancelled everywhere. Time to have some Cherry Garcia @benandjerrys Grinning face #icecream Soft ice cream\"]"
   ]
  },
  {
   "cell_type": "code",
   "execution_count": 12,
   "metadata": {},
   "outputs": [
    {
     "name": "stdout",
     "output_type": "stream",
     "text": [
      "Hashtags in list:\n",
      "#MAR10\n",
      "#family\n",
      "#icecream\n",
      "#NationalIceCreamDay.\n",
      "#Seattle's\n",
      "#CedarbrookLodge\n",
      "#CapeTown\n",
      "#MagicalCycleWeekend\n",
      "#thedirectchallenge\n",
      "#icecream\n",
      "#chocolate\n",
      "#babyboomer\n",
      "#WorkFromHome\n",
      "#frostyfrootes\n",
      "#icecream\n",
      "#icecream\n",
      "#food\n",
      "#yum\n",
      "#family\n",
      "#community\n",
      "#foodie\n",
      "#chocolate\n",
      "#icecream\n",
      "#OpeningDay\n",
      "#Desserts\n",
      "#frostyfrootes\n",
      "#icecream\n",
      "#vegan\n",
      "#icecream\n",
      "#ween\n",
      "#thaiicecream\n",
      "#rolledicecream\n",
      "#icecream\n",
      "#dessert\n",
      "#foodie\n",
      "#OCRegister\n",
      "#icecream\n",
      "Mentions in list:\n",
      "@doubutsunews\n",
      "@shojo_nosferatu\n",
      "@WaltDisneyWorld\n",
      "@Villageicecream\n",
      "@EastVillageYYC.\n",
      "@NathansDairyBar\n",
      "@Twitter\n",
      "@benandjerrys\n",
      "There are 15 instances of ice in the list.\n"
     ]
    }
   ],
   "source": [
    "def twitterAnalysis(listOfTweets, keyWord):\n",
    "    hashtagList=[]\n",
    "    mentionList=[]\n",
    "    count = 0\n",
    "    #Look at each tweet\n",
    "    for tweet in listOfTweets:\n",
    "        #splits each tweet into words\n",
    "        tweetWords = tweet.split()\n",
    "        #looks at each word\n",
    "        for word in tweetWords:\n",
    "            if(word[0]==\"#\"):\n",
    "                #print(word+\" is a hashtag!\")\n",
    "                hashtagList.append(word)\n",
    "            elif(word[0]==\"@\"):\n",
    "                #print(word+\" is a mention!\")\n",
    "                mentionList.append(word)\n",
    "            elif(keyWord in word):\n",
    "                #print(word +\" is keyword!\")\n",
    "                count+=1\n",
    "    print(\"Hashtags in list:\")\n",
    "    for hashtag in hashtagList:\n",
    "        print(hashtag)\n",
    "    print(\"Mentions in list:\")\n",
    "    for mention in mentionList:\n",
    "        print(mention)\n",
    "    print(\"There are \"+str(count)+ \" instances of \"+ keyWord+\" in the list.\")\n",
    "    \n",
    "\n",
    "twitterAnalysis(iceCreamTweets,\"ice\")"
   ]
  },
  {
   "cell_type": "code",
   "execution_count": null,
   "metadata": {},
   "outputs": [],
   "source": []
  }
 ],
 "metadata": {
  "kernelspec": {
   "display_name": "Python 3",
   "language": "python",
   "name": "python3"
  },
  "language_info": {
   "codemirror_mode": {
    "name": "ipython",
    "version": 3
   },
   "file_extension": ".py",
   "mimetype": "text/x-python",
   "name": "python",
   "nbconvert_exporter": "python",
   "pygments_lexer": "ipython3",
   "version": "3.7.4"
  }
 },
 "nbformat": 4,
 "nbformat_minor": 2
}
